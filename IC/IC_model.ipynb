{
 "cells": [
  {
   "cell_type": "code",
   "execution_count": 29,
   "metadata": {},
   "outputs": [],
   "source": [
    "import networkx as nx\n",
    "import random\n",
    "import copy\n",
    "import csv\n"
   ]
  },
  {
   "cell_type": "code",
   "execution_count": 46,
   "metadata": {},
   "outputs": [],
   "source": [
    "# file 1 = CA-AstroPh.csv\n",
    "# file 2 = ca-GrQc.csv\n",
    "# file 3 = CA-HepTh.csv\n",
    "path= 'CA-HepTh.csv'\n",
    "file = open(path)\n",
    "\n"
   ]
  },
  {
   "cell_type": "code",
   "execution_count": 47,
   "metadata": {},
   "outputs": [],
   "source": [
    "#took help from stackoverflow\n",
    "\n",
    "graph, nodes = [], []\n",
    "\n",
    "with open(path, newline=\"\") as csv_file:\n",
    "    reader = csv.reader(csv_file)\n",
    "    # Discard the header (if there is one)\n",
    "    next(reader)\n",
    "    for line in reader:\n",
    "        source, target = [int(item) for item in line]\n",
    "        nodes.append(source)\n",
    "        nodes.append(target)\n",
    "        # Have to append a tuple if you want them together.\n",
    "        graph.append((source, target))\n",
    "    \n",
    "nodes = list(set(nodes))\n",
    "n = 50"
   ]
  },
  {
   "cell_type": "code",
   "execution_count": null,
   "metadata": {},
   "outputs": [],
   "source": [
    "\n"
   ]
  },
  {
   "cell_type": "code",
   "execution_count": 48,
   "metadata": {},
   "outputs": [],
   "source": [
    "\n",
    "degree = {}\n",
    "\n",
    "for edge in graph: \n",
    "    if edge[0] in degree:\n",
    "        degree[edge[0]] += 1\n",
    "    else:\n",
    "        degree[edge[0]] = 1\n",
    "    if edge[1] in degree:\n",
    "        degree[edge[1]] += 1\n",
    "    else:\n",
    "        degree[edge[1]] = 1\n",
    "\n",
    "seeds = list({k: v for k, v in sorted(degree.items(), key=lambda item: item[1], reverse=True)}.keys())[:n]"
   ]
  },
  {
   "cell_type": "code",
   "execution_count": 49,
   "metadata": {},
   "outputs": [],
   "source": [
    "def independent_cascade(DG, seeds):\n",
    "\n",
    "    A = copy.deepcopy(seeds)  # prevent side effect\n",
    "    return _diffuse_k_rounds(DG, A,1)\n"
   ]
  },
  {
   "cell_type": "code",
   "execution_count": 50,
   "metadata": {},
   "outputs": [],
   "source": [
    "\n",
    "def _diffuse_k_rounds(G, A, steps):\n",
    "    tried_edges = set()\n",
    "    layer_i_nodes = [ ]\n",
    "    layer_i_nodes.append([i for i in A])\n",
    "    while steps > 0 and len(A) < G.number_of_nodes():\n",
    "        len_old = len(A)\n",
    "        (A, activated_nodes_of_this_round, cur_tried_edges) = _diffuse_one_round(G, A, tried_edges)\n",
    "        layer_i_nodes = layer_i_nodes[0] + activated_nodes_of_this_round\n",
    "        tried_edges = tried_edges.union(cur_tried_edges)\n",
    "        if len(A) == len_old:\n",
    "            break\n",
    "        steps -= 1\n",
    "    \n",
    "    return layer_i_nodes"
   ]
  },
  {
   "cell_type": "code",
   "execution_count": 51,
   "metadata": {},
   "outputs": [],
   "source": [
    "def _diffuse_one_round(G, A, tried_edges):\n",
    "    activated_nodes_of_this_round = []\n",
    "    cur_tried_edges = []\n",
    "    for s in A:\n",
    "        for nb in G.neighbors(s):\n",
    "            if nb in A or (s, nb) in tried_edges or (s, nb) in cur_tried_edges:\n",
    "                continue\n",
    "            if (_prop_success(G, s, nb)and (s,nb) not in cur_tried_edges):\n",
    "                activated_nodes_of_this_round.append(nb)\n",
    "                cur_tried_edges.append((s, nb))\n",
    "                activated_nodes_of_this_round = list(activated_nodes_of_this_round)\n",
    "                A.extend(activated_nodes_of_this_round)\n",
    "        anots=set(activated_nodes_of_this_round)\n",
    "        cte=set(cur_tried_edges)\n",
    "        return A,list(anots) ,list(cte) \n",
    "\n",
    "\n"
   ]
  },
  {
   "cell_type": "code",
   "execution_count": null,
   "metadata": {},
   "outputs": [],
   "source": []
  },
  {
   "cell_type": "code",
   "execution_count": 52,
   "metadata": {},
   "outputs": [],
   "source": [
    "def _prop_success(G, src, dest):\n",
    "    return random.random() <= G[src][dest]['weight']\n"
   ]
  },
  {
   "cell_type": "code",
   "execution_count": null,
   "metadata": {},
   "outputs": [],
   "source": [
    "\n"
   ]
  },
  {
   "cell_type": "code",
   "execution_count": 53,
   "metadata": {},
   "outputs": [],
   "source": [
    "\n",
    "edgelist = path #the input graph file with edge weights\n",
    "cascadefilename = 'op' #name of the file for storing output cascades"
   ]
  },
  {
   "cell_type": "code",
   "execution_count": 54,
   "metadata": {},
   "outputs": [
    {
     "name": "stdout",
     "output_type": "stream",
     "text": [
      "9877\n"
     ]
    }
   ],
   "source": [
    "G=nx.DiGraph() #generate graph from edge lis\n",
    "\n",
    "with open(path, newline=\"\") as csv_file:\n",
    "    reader = csv.reader(csv_file)\n",
    "    # Discard the header (if there is one)\n",
    "    next(reader)\n",
    "    for line in reader:\n",
    "        source, target = [int(item) for item in line]\n",
    "        G.add_edge(source, target, weight=0.1)\n",
    "    \n",
    "n = nx.number_of_nodes(G)\n",
    "print(n)"
   ]
  },
  {
   "cell_type": "code",
   "execution_count": 55,
   "metadata": {},
   "outputs": [],
   "source": [
    "cascades = independent_cascade(G, seeds )"
   ]
  },
  {
   "cell_type": "code",
   "execution_count": 56,
   "metadata": {},
   "outputs": [
    {
     "name": "stdout",
     "output_type": "stream",
     "text": [
      "[1441, 19615, 63113, 30744, 16164, 59077, 23420, 48973, 44262, 13648, 61742, 40517, 30160, 20394, 62227, 33512, 54785, 66135, 39085, 48192, 27587, 43226, 48570, 6142, 60926, 11403, 33715, 24394, 36860, 46139, 29595, 17370, 29715, 50568, 17289, 5138, 14017, 57878, 59471, 55319, 7859, 68111, 54915, 14726, 65168, 63697, 14642, 41687, 45385, 44515, 9638, 6638, 26446, 19665, 14068, 61147]\n"
     ]
    }
   ],
   "source": [
    "\n",
    "print(cascades)#using this to find the nodes infected\n"
   ]
  },
  {
   "cell_type": "code",
   "execution_count": 57,
   "metadata": {},
   "outputs": [
    {
     "name": "stdout",
     "output_type": "stream",
     "text": [
      "56\n"
     ]
    }
   ],
   "source": [
    "no_of_nodes_infected=len(cascades)\n",
    "print(no_of_nodes_infected)"
   ]
  },
  {
   "cell_type": "code",
   "execution_count": 58,
   "metadata": {},
   "outputs": [
    {
     "name": "stdout",
     "output_type": "stream",
     "text": [
      "0.5669737774627923\n"
     ]
    }
   ],
   "source": [
    "print((no_of_nodes_infected/n)*100) # percentage infection"
   ]
  },
  {
   "cell_type": "code",
   "execution_count": null,
   "metadata": {},
   "outputs": [],
   "source": []
  },
  {
   "cell_type": "code",
   "execution_count": null,
   "metadata": {},
   "outputs": [],
   "source": []
  },
  {
   "cell_type": "code",
   "execution_count": null,
   "metadata": {},
   "outputs": [],
   "source": []
  },
  {
   "cell_type": "code",
   "execution_count": null,
   "metadata": {},
   "outputs": [],
   "source": []
  }
 ],
 "metadata": {
  "kernelspec": {
   "display_name": "Python 3",
   "language": "python",
   "name": "python3"
  },
  "language_info": {
   "codemirror_mode": {
    "name": "ipython",
    "version": 3
   },
   "file_extension": ".py",
   "mimetype": "text/x-python",
   "name": "python",
   "nbconvert_exporter": "python",
   "pygments_lexer": "ipython3",
   "version": "3.7.3"
  }
 },
 "nbformat": 4,
 "nbformat_minor": 4
}
